{
 "cells": [
  {
   "cell_type": "code",
   "execution_count": 2,
   "id": "275a8007",
   "metadata": {},
   "outputs": [
    {
     "data": {
      "text/plain": [
       "1.5"
      ]
     },
     "execution_count": 2,
     "metadata": {},
     "output_type": "execute_result"
    }
   ],
   "source": [
    "# 몫을 구할 수 있는 값.\n",
    "3 / 2"
   ]
  },
  {
   "cell_type": "code",
   "execution_count": 3,
   "id": "471917c4",
   "metadata": {},
   "outputs": [
    {
     "data": {
      "text/plain": [
       "1"
      ]
     },
     "execution_count": 3,
     "metadata": {},
     "output_type": "execute_result"
    }
   ],
   "source": [
    "# 몫에서 정수 값만 출력할 수 있는 값.\n",
    "3 // 2"
   ]
  },
  {
   "cell_type": "code",
   "execution_count": 4,
   "id": "0643344d",
   "metadata": {},
   "outputs": [
    {
     "data": {
      "text/plain": [
       "2.0"
      ]
     },
     "execution_count": 4,
     "metadata": {},
     "output_type": "execute_result"
    }
   ],
   "source": [
    "5.2 // 2"
   ]
  },
  {
   "cell_type": "code",
   "execution_count": 5,
   "id": "ba9be3e0",
   "metadata": {},
   "outputs": [
    {
     "data": {
      "text/plain": [
       "2.6"
      ]
     },
     "execution_count": 5,
     "metadata": {},
     "output_type": "execute_result"
    }
   ],
   "source": [
    "5.2 / 2"
   ]
  },
  {
   "cell_type": "code",
   "execution_count": 6,
   "id": "ebdf8d35",
   "metadata": {},
   "outputs": [
    {
     "data": {
      "text/plain": [
       "10"
      ]
     },
     "execution_count": 6,
     "metadata": {},
     "output_type": "execute_result"
    }
   ],
   "source": [
    "2 * 5"
   ]
  },
  {
   "cell_type": "code",
   "execution_count": 7,
   "id": "f1eb2705",
   "metadata": {},
   "outputs": [
    {
     "data": {
      "text/plain": [
       "32"
      ]
     },
     "execution_count": 7,
     "metadata": {},
     "output_type": "execute_result"
    }
   ],
   "source": [
    "2 ** 5"
   ]
  },
  {
   "cell_type": "code",
   "execution_count": 8,
   "id": "330ebf69",
   "metadata": {},
   "outputs": [
    {
     "data": {
      "text/plain": [
       "100"
      ]
     },
     "execution_count": 8,
     "metadata": {},
     "output_type": "execute_result"
    }
   ],
   "source": [
    "a = 10\n",
    "b = 10\n",
    "a * b"
   ]
  },
  {
   "cell_type": "code",
   "execution_count": 9,
   "id": "cafce9f6",
   "metadata": {},
   "outputs": [
    {
     "data": {
      "text/plain": [
       "110"
      ]
     },
     "execution_count": 9,
     "metadata": {},
     "output_type": "execute_result"
    }
   ],
   "source": [
    "a = 10\n",
    "b = a ** 2\n",
    "a + b"
   ]
  },
  {
   "cell_type": "code",
   "execution_count": 11,
   "id": "43520365",
   "metadata": {},
   "outputs": [
    {
     "data": {
      "text/plain": [
       "0"
      ]
     },
     "execution_count": 11,
     "metadata": {},
     "output_type": "execute_result"
    }
   ],
   "source": [
    "a = 10\n",
    "b = a ** 2\n",
    "(a + b) % a"
   ]
  },
  {
   "cell_type": "code",
   "execution_count": 12,
   "id": "bb339e9a",
   "metadata": {},
   "outputs": [
    {
     "data": {
      "text/plain": [
       "'1234'"
      ]
     },
     "execution_count": 12,
     "metadata": {},
     "output_type": "execute_result"
    }
   ],
   "source": [
    "'1234'"
   ]
  },
  {
   "cell_type": "code",
   "execution_count": 13,
   "id": "e891e1cb",
   "metadata": {},
   "outputs": [
    {
     "data": {
      "text/plain": [
       "1234"
      ]
     },
     "execution_count": 13,
     "metadata": {},
     "output_type": "execute_result"
    }
   ],
   "source": [
    "1234"
   ]
  },
  {
   "cell_type": "code",
   "execution_count": 14,
   "id": "74553eff",
   "metadata": {},
   "outputs": [
    {
     "data": {
      "text/plain": [
       "'Hello'"
      ]
     },
     "execution_count": 14,
     "metadata": {},
     "output_type": "execute_result"
    }
   ],
   "source": [
    "\"Hello\""
   ]
  },
  {
   "cell_type": "code",
   "execution_count": 15,
   "id": "c39cbdc0",
   "metadata": {},
   "outputs": [
    {
     "data": {
      "text/plain": [
       "'Hello'"
      ]
     },
     "execution_count": 15,
     "metadata": {},
     "output_type": "execute_result"
    }
   ],
   "source": [
    "msg = 'Hello'\n",
    "msg"
   ]
  },
  {
   "cell_type": "code",
   "execution_count": 22,
   "id": "821bf3f6",
   "metadata": {},
   "outputs": [
    {
     "data": {
      "text/plain": [
       "'Hellobro!'"
      ]
     },
     "execution_count": 22,
     "metadata": {},
     "output_type": "execute_result"
    }
   ],
   "source": [
    "msg = 'Hello'\n",
    "msg + 'bro!'    "
   ]
  },
  {
   "cell_type": "code",
   "execution_count": 26,
   "id": "9a5a5fc0",
   "metadata": {},
   "outputs": [
    {
     "name": "stdout",
     "output_type": "stream",
     "text": [
      "Hello\n",
      "Bro\n"
     ]
    }
   ],
   "source": [
    "# 변수 내 문자열 안에 '\\n' 넣어준 후, print()써야 띄워짐.\n",
    "msg = 'Hello\\nBro'\n",
    "print(msg)"
   ]
  },
  {
   "cell_type": "code",
   "execution_count": 32,
   "id": "a8440664",
   "metadata": {},
   "outputs": [
    {
     "name": "stdout",
     "output_type": "stream",
     "text": [
      "Hello \n",
      "bro!\n"
     ]
    }
   ],
   "source": [
    "# '''안에 원하는 문자역을 쓰고, 띄워쓰기도 설정해줄 수 있음.'''\n",
    "msg = '''Hello \n",
    "bro!'''\n",
    "#msg\n",
    "print(msg)"
   ]
  },
  {
   "cell_type": "code",
   "execution_count": 34,
   "id": "3983eb48",
   "metadata": {},
   "outputs": [
    {
     "name": "stdout",
     "output_type": "stream",
     "text": [
      "Hello\tbro!\n"
     ]
    }
   ],
   "source": [
    "# \\t는 탭을 해줌.\n",
    "msg = \"Hello\\tbro!\"\n",
    "print(msg)"
   ]
  },
  {
   "cell_type": "code",
   "execution_count": 35,
   "id": "ee035ba5",
   "metadata": {},
   "outputs": [
    {
     "name": "stdout",
     "output_type": "stream",
     "text": [
      "Hello\\bro!\n"
     ]
    }
   ],
   "source": [
    "# \\\\는 \\ 문자를 한 번 출력해줌. \n",
    "msg = \"Hello\\\\bro!\"\n",
    "print(msg)"
   ]
  },
  {
   "cell_type": "code",
   "execution_count": 36,
   "id": "06daf2b7",
   "metadata": {},
   "outputs": [
    {
     "name": "stdout",
     "output_type": "stream",
     "text": [
      "Hello\\*bro!\n"
     ]
    }
   ],
   "source": [
    "# \\*는 * 문자를 한 번 출력해줌. \n",
    "msg = \"Hello\\*bro!\"\n",
    "print(msg)"
   ]
  },
  {
   "cell_type": "code",
   "execution_count": 37,
   "id": "b6cd0fcc",
   "metadata": {},
   "outputs": [
    {
     "name": "stdout",
     "output_type": "stream",
     "text": [
      "Hello\"bro!\n"
     ]
    }
   ],
   "source": [
    "# \\\"는 \"문자를 한 번 출력해줌. \n",
    "msg = \"Hello\\\"bro!\"\n",
    "print(msg)"
   ]
  },
  {
   "cell_type": "code",
   "execution_count": 38,
   "id": "420308b4",
   "metadata": {},
   "outputs": [
    {
     "data": {
      "text/plain": [
       "[1, 2, 3, 4, 5]"
      ]
     },
     "execution_count": 38,
     "metadata": {},
     "output_type": "execute_result"
    }
   ],
   "source": [
    "numbers = [1,2,3,4,5]\n",
    "numbers"
   ]
  },
  {
   "cell_type": "code",
   "execution_count": 43,
   "id": "9dadd5d2",
   "metadata": {},
   "outputs": [
    {
     "data": {
      "text/plain": [
       "[1, 2, 3, 4, 5, 1, 2]"
      ]
     },
     "execution_count": 43,
     "metadata": {},
     "output_type": "execute_result"
    }
   ],
   "source": [
    "numbers = [1,2,3,4,5]\n",
    "numbers + [1, 2]"
   ]
  },
  {
   "cell_type": "code",
   "execution_count": 59,
   "id": "a2e5bfee",
   "metadata": {},
   "outputs": [
    {
     "name": "stdout",
     "output_type": "stream",
     "text": [
      "Harry is My Name\n"
     ]
    }
   ],
   "source": [
    "numbers = ['Hello', ' My', ' Name', ' is', 'Harry']\n",
    "Sentence = numbers[4] + numbers[3] + numbers[1] + numbers[2]\n",
    "print(Sentence)\n",
    "#numbers"
   ]
  },
  {
   "cell_type": "code",
   "execution_count": 61,
   "id": "a2242d54",
   "metadata": {},
   "outputs": [
    {
     "data": {
      "text/plain": [
       "list"
      ]
     },
     "execution_count": 61,
     "metadata": {},
     "output_type": "execute_result"
    }
   ],
   "source": [
    "real_number = [1.0, 2.0, 3.0, 4, 5]\n",
    "real_number\n",
    "type(real_number)"
   ]
  },
  {
   "cell_type": "code",
   "execution_count": 67,
   "id": "8d302dec",
   "metadata": {},
   "outputs": [
    {
     "data": {
      "text/plain": [
       "[1]"
      ]
     },
     "execution_count": 67,
     "metadata": {},
     "output_type": "execute_result"
    }
   ],
   "source": [
    "# [:N] 로 적게될 경우에는, 처음 시작되는 지점이 0부터 시작되므로 처음의 위치에서 뒤의 N번째 이전까지의 숫자까지 출력.\n",
    "numbers = [1, 2, 3, 4, 5]\n",
    "#numbers[1 :]\n",
    "numbers[:1]"
   ]
  },
  {
   "cell_type": "code",
   "execution_count": 68,
   "id": "024267f1",
   "metadata": {},
   "outputs": [
    {
     "data": {
      "text/plain": [
       "[3, 4, 5]"
      ]
     },
     "execution_count": 68,
     "metadata": {},
     "output_type": "execute_result"
    }
   ],
   "source": [
    "numbers = [1, 2, 3, 4, 5]\n",
    "numbers[2:]"
   ]
  },
  {
   "cell_type": "code",
   "execution_count": 69,
   "id": "185f0a73",
   "metadata": {},
   "outputs": [
    {
     "data": {
      "text/plain": [
       "[3, 4, 5, 1, 2, 3]"
      ]
     },
     "execution_count": 69,
     "metadata": {},
     "output_type": "execute_result"
    }
   ],
   "source": [
    "numbers = [1, 2, 3, 4, 5]\n",
    "numbers[2:] + [1,2,3]"
   ]
  },
  {
   "cell_type": "code",
   "execution_count": 70,
   "id": "2b64caf2",
   "metadata": {},
   "outputs": [
    {
     "data": {
      "text/plain": [
       "[2, 3, 4]"
      ]
     },
     "execution_count": 70,
     "metadata": {},
     "output_type": "execute_result"
    }
   ],
   "source": [
    "numbers = [1, 2, 3, 4, 5]\n",
    "numbers[1: -1]"
   ]
  },
  {
   "cell_type": "code",
   "execution_count": 71,
   "id": "23281b16",
   "metadata": {},
   "outputs": [
    {
     "data": {
      "text/plain": [
       "[9, 2, 3, 4, 5]"
      ]
     },
     "execution_count": 71,
     "metadata": {},
     "output_type": "execute_result"
    }
   ],
   "source": [
    "numbers = [1, 2, 3, 4, 5]\n",
    "numbers[0] = 9\n",
    "numbers"
   ]
  },
  {
   "cell_type": "code",
   "execution_count": 73,
   "id": "cca12679",
   "metadata": {},
   "outputs": [
    {
     "data": {
      "text/plain": [
       "[3, 4, 3, 4, 5]"
      ]
     },
     "execution_count": 73,
     "metadata": {},
     "output_type": "execute_result"
    }
   ],
   "source": [
    "numbers = [1, 2, 3, 4, 5]\n",
    "numbers[0 : 2] = [3,4]\n",
    "numbers"
   ]
  },
  {
   "cell_type": "code",
   "execution_count": 83,
   "id": "f233b58e",
   "metadata": {},
   "outputs": [
    {
     "data": {
      "text/plain": [
       "[1, 2, 3, 4, 5, 9, 10]"
      ]
     },
     "execution_count": 83,
     "metadata": {},
     "output_type": "execute_result"
    }
   ],
   "source": [
    "numbers = [1, 2, 3, 4, 5]\n",
    "numbers.append(9)\n",
    "numbers.append(10)\n",
    "numbers"
   ]
  },
  {
   "cell_type": "code",
   "execution_count": 80,
   "id": "3725825e",
   "metadata": {},
   "outputs": [
    {
     "data": {
      "text/plain": [
       "[1, 1.5, 3.5, 2, 3, 4, 5]"
      ]
     },
     "execution_count": 80,
     "metadata": {},
     "output_type": "execute_result"
    }
   ],
   "source": [
    "numbers = [1, 2, 3, 4, 5]\n",
    "numbers.insert(1, 1.5)\n",
    "numbers.insert(2, 3.5)\n",
    "numbers"
   ]
  },
  {
   "cell_type": "code",
   "execution_count": 85,
   "id": "cd5fb1f9",
   "metadata": {},
   "outputs": [
    {
     "data": {
      "text/plain": [
       "[1, 2, 3, 4]"
      ]
     },
     "execution_count": 85,
     "metadata": {},
     "output_type": "execute_result"
    }
   ],
   "source": [
    "#pop()의 경우 마지막 변수를 출력하고, 자연스럽게 삭제됨.\n",
    "numbers = [1, 2, 3, 4, 5]\n",
    "numbers.pop()\n",
    "numbers"
   ]
  },
  {
   "cell_type": "code",
   "execution_count": 87,
   "id": "1f1ff02a",
   "metadata": {},
   "outputs": [
    {
     "data": {
      "text/plain": [
       "[1, 2, 4, 5, 6]"
      ]
     },
     "execution_count": 87,
     "metadata": {},
     "output_type": "execute_result"
    }
   ],
   "source": [
    "# del 키워드는 앞에 쓰이며, pop()함수와 다르게 삭제하고 다 지우지 않고 지정한 위치의 값만 지워짐.\n",
    "numbers = [1,2,3,4,5,6]\n",
    "del numbers[2]\n",
    "numbers"
   ]
  },
  {
   "cell_type": "code",
   "execution_count": 90,
   "id": "f690806c",
   "metadata": {},
   "outputs": [
    {
     "data": {
      "text/plain": [
       "9"
      ]
     },
     "execution_count": 90,
     "metadata": {},
     "output_type": "execute_result"
    }
   ],
   "source": [
    "# len(변수) 형태로 쓰일 수 있으며, 길이 값으로 변환하면 정수 값이랑 합칠 수 있음. \n",
    "numbers = [1.0, 2.0, 3.6, 5]\n",
    "len(numbers) + 5\n",
    "#print(numbers)"
   ]
  },
  {
   "cell_type": "code",
   "execution_count": 98,
   "id": "f097c87b",
   "metadata": {},
   "outputs": [
    {
     "data": {
      "text/plain": [
       "[1, 2, 'Gello', 3, 4, 'JelleyBean', 'Say']"
      ]
     },
     "execution_count": 98,
     "metadata": {},
     "output_type": "execute_result"
    }
   ],
   "source": [
    "numbers = [1,2,3,4, 'JelleyBean']\n",
    "numbers.append(\"Say\")\n",
    "numbers.insert(2, \"Gello\")\n",
    "numbers"
   ]
  },
  {
   "cell_type": "code",
   "execution_count": 100,
   "id": "44c543a5",
   "metadata": {},
   "outputs": [
    {
     "data": {
      "text/plain": [
       "tuple"
      ]
     },
     "execution_count": 100,
     "metadata": {},
     "output_type": "execute_result"
    }
   ],
   "source": [
    "numbers = (1,2,3,4,5)\n",
    "numbers\n",
    "type(numbers)"
   ]
  },
  {
   "cell_type": "code",
   "execution_count": 101,
   "id": "7d10c5a1",
   "metadata": {},
   "outputs": [
    {
     "data": {
      "text/plain": [
       "(1, 2, 3, 4, 5)"
      ]
     },
     "execution_count": 101,
     "metadata": {},
     "output_type": "execute_result"
    }
   ],
   "source": [
    "numbers = (1,2,3,4,5)\n",
    "numbers"
   ]
  },
  {
   "cell_type": "code",
   "execution_count": 105,
   "id": "07901a4b",
   "metadata": {},
   "outputs": [
    {
     "data": {
      "text/plain": [
       "('GELLO', 'Hello')"
      ]
     },
     "execution_count": 105,
     "metadata": {},
     "output_type": "execute_result"
    }
   ],
   "source": [
    "numbers = (1,2,3,4, \"GELLO\", 'Hello')\n",
    "numbers[0:-2]\n",
    "numbers[0:-1]\n",
    "# 뒤에 요소를 지정해주지 않았을 경우, '-2' 부분의 값까지만 출력해줌.\n",
    "numbers[-2:]"
   ]
  },
  {
   "cell_type": "code",
   "execution_count": 112,
   "id": "598555e7",
   "metadata": {},
   "outputs": [],
   "source": [
    "#  튜플의 값은 변경할 수 없다는 점!\n",
    "numbers = (1,2,3,4,5)\n",
    "#numbers[0] = 'Jelly'"
   ]
  },
  {
   "cell_type": "code",
   "execution_count": 129,
   "id": "746a66fe",
   "metadata": {},
   "outputs": [
    {
     "name": "stdout",
     "output_type": "stream",
     "text": [
      "(1, 2, 'ET')\n"
     ]
    }
   ],
   "source": [
    "numbers = (1,2,3)\n",
    "new_number = ('Hello', 'Hi')\n",
    "#new_number = numbers + (6,7)\n",
    "\n",
    "\n",
    "# trans_numbers 부분에서 numbers를 list로 변환시켜줌.\n",
    "trans_numbers = list(numbers)\n",
    "trans_numbers[2] = \"ET\"\n",
    "numbers = tuple(trans_numbers)\n",
    "print(numbers)"
   ]
  },
  {
   "cell_type": "code",
   "execution_count": 131,
   "id": "5dd48135",
   "metadata": {},
   "outputs": [
    {
     "data": {
      "text/plain": [
       "(1, 2, 3, 4, 1)"
      ]
     },
     "execution_count": 131,
     "metadata": {},
     "output_type": "execute_result"
    }
   ],
   "source": [
    "# 파이썬 인터프리터에서는 (1) 이렇게만 쓰면 수학 내에서의 소괄호인지, 튜플의 소괄호인지 알 수 없음. (',') 같이 써줘야함. \n",
    "numbers = (1,2,3,4) + (1,)\n",
    "numbers"
   ]
  },
  {
   "cell_type": "code",
   "execution_count": 133,
   "id": "b46b18d5",
   "metadata": {},
   "outputs": [
    {
     "data": {
      "text/plain": [
       "dict"
      ]
     },
     "execution_count": 133,
     "metadata": {},
     "output_type": "execute_result"
    }
   ],
   "source": [
    "user1 = {'name' : '홍길동', 'age' : 30, 'email' : 'jojunhyeong12@daum.net'}\n",
    "user1\n",
    "type(user1)"
   ]
  },
  {
   "cell_type": "code",
   "execution_count": 136,
   "id": "0391aa71",
   "metadata": {},
   "outputs": [
    {
     "data": {
      "text/plain": [
       "[100, 'Hi', 4.5]"
      ]
     },
     "execution_count": 136,
     "metadata": {},
     "output_type": "execute_result"
    }
   ],
   "source": [
    "dict1 = {'kei' : [100, 'Hi', 4.5]}\n",
    "dict1['kei']"
   ]
  },
  {
   "cell_type": "code",
   "execution_count": 140,
   "id": "3aabe20a",
   "metadata": {},
   "outputs": [
    {
     "data": {
      "text/plain": [
       "('Hi', 100)"
      ]
     },
     "execution_count": 140,
     "metadata": {},
     "output_type": "execute_result"
    }
   ],
   "source": [
    "#dict1['kei'][1], dict1['kei'][0]"
   ]
  },
  {
   "cell_type": "code",
   "execution_count": 160,
   "id": "2e508e09",
   "metadata": {},
   "outputs": [
    {
     "name": "stdout",
     "output_type": "stream",
     "text": [
      "{'kei': [100, 'Hello', 'Hi']}\n"
     ]
    }
   ],
   "source": [
    "dict1 = {'kei' : [100, 'Hi', 4.5]}\n",
    "dict1['kei'].insert(1, 'Hello')\n",
    "del dict1['kei'][3]\n",
    "print(dict1)"
   ]
  },
  {
   "cell_type": "code",
   "execution_count": 161,
   "id": "615a9b4b",
   "metadata": {},
   "outputs": [
    {
     "data": {
      "text/plain": [
       "'ten'"
      ]
     },
     "execution_count": 161,
     "metadata": {},
     "output_type": "execute_result"
    }
   ],
   "source": [
    "dict2 = {10 : 'ten'}\n",
    "dict2[10]"
   ]
  },
  {
   "cell_type": "code",
   "execution_count": 165,
   "id": "c487c8d1",
   "metadata": {},
   "outputs": [
    {
     "data": {
      "text/plain": [
       "{'a': 'A ', 'b': 'B'}"
      ]
     },
     "execution_count": 165,
     "metadata": {},
     "output_type": "execute_result"
    }
   ],
   "source": [
    "dict3 = {}\n",
    "dict3['a'] = 'A'\n",
    "dict3['b'] = 'B'\n",
    "dict3"
   ]
  },
  {
   "cell_type": "code",
   "execution_count": 166,
   "id": "7554e58d",
   "metadata": {},
   "outputs": [
    {
     "data": {
      "text/plain": [
       "{'a': 'A ', 'b': 'B', 3: [1, 2, 3]}"
      ]
     },
     "execution_count": 166,
     "metadata": {},
     "output_type": "execute_result"
    }
   ],
   "source": [
    "dict3[3] = [1,2,3]\n",
    "dict3"
   ]
  },
  {
   "cell_type": "code",
   "execution_count": 190,
   "id": "bf276d1b",
   "metadata": {},
   "outputs": [
    {
     "name": "stdout",
     "output_type": "stream",
     "text": [
      "{'a': [10, 30, 40], 'b': [60, 70, 80]}\n"
     ]
    }
   ],
   "source": [
    "dict4 = {}\n",
    "dict4['a'] = [10, 20, 30, 40]\n",
    "dict4['b'] = [60, 70, 80]\n",
    "dict4['a'].pop(1)\n",
    "print(dict4)"
   ]
  },
  {
   "cell_type": "code",
   "execution_count": 191,
   "id": "42786436",
   "metadata": {},
   "outputs": [
    {
     "name": "stdout",
     "output_type": "stream",
     "text": [
      "-------------\n",
      "chdck is true\n",
      "-------------\n"
     ]
    }
   ],
   "source": [
    "# if문에 대해서 알아보자.\n",
    "\n",
    "check = True\n",
    "if check:\n",
    "    print('-' * 13)\n",
    "    print('chdck is true')\n",
    "    print('-' * 13)"
   ]
  },
  {
   "cell_type": "code",
   "execution_count": 193,
   "id": "e8c9269e",
   "metadata": {},
   "outputs": [
    {
     "name": "stdout",
     "output_type": "stream",
     "text": [
      "--------------\n",
      "check is false\n",
      "--------------\n"
     ]
    }
   ],
   "source": [
    "check = False\n",
    "if check == False:\n",
    "    print('-' * 14)\n",
    "    print('check is false')\n",
    "    print('-' * 14)"
   ]
  },
  {
   "cell_type": "code",
   "execution_count": 196,
   "id": "e702d427",
   "metadata": {},
   "outputs": [
    {
     "name": "stdout",
     "output_type": "stream",
     "text": [
      "------------------\n",
      "check is not true\n",
      "------------------\n"
     ]
    }
   ],
   "source": [
    "if check != True:\n",
    "    print('-' * 18)\n",
    "    print('check is not true')\n",
    "    print('-' * 18)"
   ]
  },
  {
   "cell_type": "code",
   "execution_count": 2,
   "id": "8ab0e05e",
   "metadata": {},
   "outputs": [
    {
     "name": "stdout",
     "output_type": "stream",
     "text": [
      "You are an adult\n"
     ]
    }
   ],
   "source": [
    "age = 15\n",
    "if age >= 15:\n",
    "    print('You are an adult')\n",
    "elif age < 15:\n",
    "    print('You are a child')\n",
    "else:\n",
    "    print('You are Good at age')"
   ]
  },
  {
   "cell_type": "code",
   "execution_count": 3,
   "id": "aac2b17e",
   "metadata": {},
   "outputs": [
    {
     "name": "stdout",
     "output_type": "stream",
     "text": [
      "Over 3000won\n"
     ]
    }
   ],
   "source": [
    "dist = 300\n",
    "if dist >= 0 and dist <=50:\n",
    "    print('1000woon')\n",
    "elif dist > 50 and dist <= 100:\n",
    "    print('20000won')\n",
    "else :\n",
    "    print('Over 3000won')\n"
   ]
  },
  {
   "cell_type": "code",
   "execution_count": 5,
   "id": "3d6ca250",
   "metadata": {},
   "outputs": [
    {
     "name": "stdout",
     "output_type": "stream",
     "text": [
      "i=1\n",
      "i=2\n",
      "i=3\n",
      "i=4\n",
      "i=5\n",
      "i=6\n",
      "i=7\n",
      "i=8\n",
      "i=9\n",
      "i=10\n"
     ]
    }
   ],
   "source": [
    "i = 1\n",
    "while i <= 10:\n",
    "    print('i=%d' %i)\n",
    "    i +=1\n"
   ]
  },
  {
   "cell_type": "code",
   "execution_count": 7,
   "id": "79999ff4",
   "metadata": {},
   "outputs": [
    {
     "name": "stdout",
     "output_type": "stream",
     "text": [
      "i = 1\n",
      "i = 2\n",
      "i = 4\n",
      "i = 8\n"
     ]
    }
   ],
   "source": [
    "i = 1\n",
    "while i <= 10:\n",
    "    print('i = %d' %i)\n",
    "    i*=2"
   ]
  },
  {
   "cell_type": "code",
   "execution_count": 11,
   "id": "9fe49747",
   "metadata": {},
   "outputs": [
    {
     "name": "stdout",
     "output_type": "stream",
     "text": [
      "input number : \n",
      "2\n",
      "number two\n",
      "input number : \n",
      "99\n",
      "input number : \n",
      "1\n",
      "number one\n",
      "input number : \n",
      "a\n"
     ]
    },
    {
     "ename": "ValueError",
     "evalue": "invalid literal for int() with base 10: 'a'",
     "output_type": "error",
     "traceback": [
      "\u001b[1;31m---------------------------------------------------------------------------\u001b[0m",
      "\u001b[1;31mValueError\u001b[0m                                Traceback (most recent call last)",
      "\u001b[1;32m~\\AppData\\Local\\Temp\\ipykernel_24160\\2591446591.py\u001b[0m in \u001b[0;36m<module>\u001b[1;34m\u001b[0m\n\u001b[0;32m      1\u001b[0m \u001b[1;32mwhile\u001b[0m \u001b[1;32mTrue\u001b[0m\u001b[1;33m:\u001b[0m\u001b[1;33m\u001b[0m\u001b[1;33m\u001b[0m\u001b[0m\n\u001b[0;32m      2\u001b[0m     \u001b[0mprint\u001b[0m\u001b[1;33m(\u001b[0m\u001b[1;34m'input number : '\u001b[0m\u001b[1;33m)\u001b[0m\u001b[1;33m\u001b[0m\u001b[1;33m\u001b[0m\u001b[0m\n\u001b[1;32m----> 3\u001b[1;33m     \u001b[0mmenu\u001b[0m \u001b[1;33m=\u001b[0m \u001b[0mint\u001b[0m\u001b[1;33m(\u001b[0m\u001b[0minput\u001b[0m\u001b[1;33m(\u001b[0m\u001b[1;33m)\u001b[0m\u001b[1;33m)\u001b[0m\u001b[1;33m\u001b[0m\u001b[1;33m\u001b[0m\u001b[0m\n\u001b[0m\u001b[0;32m      4\u001b[0m     \u001b[1;32mif\u001b[0m \u001b[0mmenu\u001b[0m \u001b[1;33m==\u001b[0m \u001b[1;36m0\u001b[0m\u001b[1;33m:\u001b[0m \u001b[1;32mbreak\u001b[0m\u001b[1;33m\u001b[0m\u001b[1;33m\u001b[0m\u001b[0m\n\u001b[0;32m      5\u001b[0m     \u001b[1;32melif\u001b[0m \u001b[0mmenu\u001b[0m \u001b[1;33m==\u001b[0m \u001b[1;36m1\u001b[0m\u001b[1;33m:\u001b[0m \u001b[0mprint\u001b[0m\u001b[1;33m(\u001b[0m\u001b[1;34m'number one'\u001b[0m\u001b[1;33m)\u001b[0m\u001b[1;33m\u001b[0m\u001b[1;33m\u001b[0m\u001b[0m\n",
      "\u001b[1;31mValueError\u001b[0m: invalid literal for int() with base 10: 'a'"
     ]
    }
   ],
   "source": [
    "while True:\n",
    "    print('input number : ')\n",
    "    menu = int(input())\n",
    "    if menu == 0: break\n",
    "    elif menu == 1: print('number one')\n",
    "    elif menu == 2: print('number two')\n",
    "    elif menu == 99:\n",
    "        continue\n",
    "    else:\n",
    "        print('another number')"
   ]
  },
  {
   "cell_type": "code",
   "execution_count": 13,
   "id": "d45546c0",
   "metadata": {},
   "outputs": [
    {
     "name": "stdout",
     "output_type": "stream",
     "text": [
      "1\n",
      "2\n",
      "3\n",
      "4\n",
      "5\n"
     ]
    }
   ],
   "source": [
    "# 어떠한 조건을 활용할 때는 while문을 사용하고, tuple, list를 사용하는 경우에는 for()문을 사용함.\n",
    "\n",
    "numbers = [1,2,3,4,5]\n",
    "for n in numbers:\n",
    "    print(n)"
   ]
  },
  {
   "cell_type": "code",
   "execution_count": 21,
   "id": "ca7b0bee",
   "metadata": {},
   "outputs": [
    {
     "name": "stdout",
     "output_type": "stream",
     "text": [
      "{'key': [1, 2]}\n"
     ]
    }
   ],
   "source": [
    "numbers = {'key': [1,2,3,4]}\n",
    "for n in numbers:\n",
    "    numbers['key'].pop(3)\n",
    "    numbers['key'].pop(2)\n",
    "    print(numbers)"
   ]
  },
  {
   "cell_type": "code",
   "execution_count": 22,
   "id": "a09e6db4",
   "metadata": {},
   "outputs": [
    {
     "name": "stdout",
     "output_type": "stream",
     "text": [
      "1\n",
      "2\n",
      "3\n",
      "4\n",
      "5\n"
     ]
    }
   ],
   "source": [
    "numbers = range(1,6)\n",
    "for n in numbers:\n",
    "    print(n)"
   ]
  },
  {
   "cell_type": "code",
   "execution_count": 38,
   "id": "130ae1cf",
   "metadata": {},
   "outputs": [
    {
     "name": "stdout",
     "output_type": "stream",
     "text": [
      "10 15\n",
      "20 25\n",
      "0 0\n"
     ]
    }
   ],
   "source": [
    "# (x,y) 값이 자동으로 할당될 수 있도로고 하게 하려면 튜플로 표현되어야 함. \n",
    "\n",
    "crood = {(0,0), (10,15), (20, 25)}\n",
    "for x, y in crood:\n",
    "    print(x,y)"
   ]
  },
  {
   "cell_type": "code",
   "execution_count": 41,
   "id": "43ab79a8",
   "metadata": {},
   "outputs": [
    {
     "name": "stdout",
     "output_type": "stream",
     "text": [
      "name\n",
      "age\n",
      "nationality\n"
     ]
    }
   ],
   "source": [
    "user = {'name' : 'Kei', 'age' : 35, 'nationality' : 'Korea'}\n",
    "#user.keys()\n",
    "for n in user.keys():\n",
    "    print(n)"
   ]
  },
  {
   "cell_type": "code",
   "execution_count": 45,
   "id": "59e60dad",
   "metadata": {},
   "outputs": [
    {
     "name": "stdout",
     "output_type": "stream",
     "text": [
      "kei\n",
      "35\n",
      "korea\n"
     ]
    }
   ],
   "source": [
    "# 딕셔너리 내에서의 value() 값만을 출력해주는 함수/ values()\n",
    "user = {'name': 'kei', 'age' : 35, 'nationnality' : 'korea'}\n",
    "for k in user.values():\n",
    "    print(k)"
   ]
  },
  {
   "cell_type": "code",
   "execution_count": 50,
   "id": "a6d1f74e",
   "metadata": {},
   "outputs": [
    {
     "name": "stdout",
     "output_type": "stream",
     "text": [
      "name lee hyunji\n",
      "age 25\n",
      "university Hanyang\n"
     ]
    }
   ],
   "source": [
    "user = {'name' : 'lee hyunji', 'age' : 25, 'university' : 'Hanyang'}\n",
    "for k, v in user.items():\n",
    "    print(k, v)"
   ]
  },
  {
   "cell_type": "code",
   "execution_count": 53,
   "id": "9957dbc9",
   "metadata": {},
   "outputs": [
    {
     "data": {
      "text/plain": [
       "30"
      ]
     },
     "execution_count": 53,
     "metadata": {},
     "output_type": "execute_result"
    }
   ],
   "source": [
    "# function (함수)에 대해서 알아보자.\n",
    "\n",
    "def add(a, b):\n",
    "    return a + b\n",
    "\n",
    "add(10, 20)"
   ]
  },
  {
   "cell_type": "code",
   "execution_count": 59,
   "id": "3ec819e7",
   "metadata": {},
   "outputs": [
    {
     "name": "stdout",
     "output_type": "stream",
     "text": [
      "name  : Ketty\n",
      "age : 35\n",
      "score : 88\n"
     ]
    }
   ],
   "source": [
    "# def로 선언해준 것이 결과적으로 한번 더 호출하면 print()문의 기능을 하는 것. \n",
    "def print_user(user, score):\n",
    "    print(\"name  : %s\" %user['name'])\n",
    "    print(\"age : %d\" %user['age'])\n",
    "    print(\"score : %d\" %score)\n",
    "\n",
    "# 변수 값을 할당해 준 것.\n",
    "user = {'name' : 'Ketty', 'age' : 35}\n",
    "score = 88\n",
    "print_user(user, score)"
   ]
  },
  {
   "cell_type": "code",
   "execution_count": 4,
   "id": "c7ced7f9",
   "metadata": {},
   "outputs": [],
   "source": [
    "import pickle\n",
    "f = open('setting.txt', 'wb')\n",
    "# 저장할 내용.\n",
    "setting = [{'title', 'python program'}, {'author' : 'Kei'}]\n",
    "pickle.dump(setting, f)\n",
    "f.close()"
   ]
  },
  {
   "cell_type": "code",
   "execution_count": 3,
   "id": "1ceda8f8",
   "metadata": {},
   "outputs": [
    {
     "name": "stdout",
     "output_type": "stream",
     "text": [
      "[{'title', 'python program'}, {'author': 'Kei'}]\n"
     ]
    }
   ],
   "source": [
    "import pickle \n",
    "f = open('setting.txt', 'rb')\n",
    "setting = pickle.load(f)\n",
    "f.close()\n",
    "print(setting)"
   ]
  },
  {
   "cell_type": "code",
   "execution_count": 6,
   "id": "cd4f6824",
   "metadata": {},
   "outputs": [
    {
     "data": {
      "text/plain": [
       "1678282873.7578962"
      ]
     },
     "execution_count": 6,
     "metadata": {},
     "output_type": "execute_result"
    }
   ],
   "source": [
    "import time\n",
    "time.time()"
   ]
  },
  {
   "cell_type": "code",
   "execution_count": 8,
   "id": "e1f2e151",
   "metadata": {},
   "outputs": [
    {
     "data": {
      "text/plain": [
       "time.struct_time(tm_year=2023, tm_mon=3, tm_mday=8, tm_hour=22, tm_min=43, tm_sec=36, tm_wday=2, tm_yday=67, tm_isdst=0)"
      ]
     },
     "execution_count": 8,
     "metadata": {},
     "output_type": "execute_result"
    }
   ],
   "source": [
    "import time\n",
    "\n",
    "#UTC 데이터를 struct_time 객체\n",
    "time.localtime(time.time())"
   ]
  },
  {
   "cell_type": "code",
   "execution_count": 14,
   "id": "d0532f40",
   "metadata": {},
   "outputs": [
    {
     "data": {
      "text/plain": [
       "'2023/03/08 22:46:56'"
      ]
     },
     "execution_count": 14,
     "metadata": {},
     "output_type": "execute_result"
    }
   ],
   "source": [
    "import time\n",
    "lt = time.localtime(time.time())\n",
    "time.strftime('%Y/%m/%d %H:%M:%S', lt)"
   ]
  },
  {
   "cell_type": "code",
   "execution_count": 20,
   "id": "89f464d9",
   "metadata": {},
   "outputs": [
    {
     "data": {
      "text/plain": [
       "'Mar /00:20:00'"
      ]
     },
     "execution_count": 20,
     "metadata": {},
     "output_type": "execute_result"
    }
   ],
   "source": [
    "import time\n",
    "this_time = time.localtime(time.time())\n",
    "time.strftime('%b /%H:%M:%S', this_time)"
   ]
  },
  {
   "cell_type": "code",
   "execution_count": 21,
   "id": "4b6afeba",
   "metadata": {},
   "outputs": [
    {
     "data": {
      "text/plain": [
       "0.7322531779638729"
      ]
     },
     "execution_count": 21,
     "metadata": {},
     "output_type": "execute_result"
    }
   ],
   "source": [
    "import random\n",
    "random.random()"
   ]
  },
  {
   "cell_type": "code",
   "execution_count": 22,
   "id": "490dab89",
   "metadata": {},
   "outputs": [
    {
     "data": {
      "text/plain": [
       "1.4741735254309214"
      ]
     },
     "execution_count": 22,
     "metadata": {},
     "output_type": "execute_result"
    }
   ],
   "source": [
    "# uniform() 함수를 사용하는 것은, 임의의 생성되는 실수의 범위를 정할 수 있도록 함.\n",
    "import random\n",
    "random.uniform(1,2) # 1 <= random < 2"
   ]
  },
  {
   "cell_type": "code",
   "execution_count": 23,
   "id": "3886cd8e",
   "metadata": {},
   "outputs": [
    {
     "data": {
      "text/plain": [
       "3"
      ]
     },
     "execution_count": 23,
     "metadata": {},
     "output_type": "execute_result"
    }
   ],
   "source": [
    "# randint() 의 경우 난수의 범위를 지정해서 출력할 수 있도록 함.\n",
    "import random\n",
    "random.randint(1,5) # 1 <= random <= 5"
   ]
  },
  {
   "cell_type": "code",
   "execution_count": 24,
   "id": "02da1e7a",
   "metadata": {},
   "outputs": [
    {
     "data": {
      "text/plain": [
       "2"
      ]
     },
     "execution_count": 24,
     "metadata": {},
     "output_type": "execute_result"
    }
   ],
   "source": [
    "random.randint(1,5)"
   ]
  },
  {
   "cell_type": "code",
   "execution_count": 25,
   "id": "5f9fbec9",
   "metadata": {},
   "outputs": [
    {
     "data": {
      "text/plain": [
       "5"
      ]
     },
     "execution_count": 25,
     "metadata": {},
     "output_type": "execute_result"
    }
   ],
   "source": [
    "random.randint(1,5)"
   ]
  },
  {
   "cell_type": "code",
   "execution_count": 31,
   "id": "196681bc",
   "metadata": {},
   "outputs": [
    {
     "name": "stdout",
     "output_type": "stream",
     "text": [
      "3\n"
     ]
    }
   ],
   "source": [
    "def add_num(a,b):\n",
    "    print(a+b)\n",
    "    \n",
    "add_num(1,2)"
   ]
  },
  {
   "cell_type": "code",
   "execution_count": 42,
   "id": "927ee596",
   "metadata": {},
   "outputs": [
    {
     "name": "stdout",
     "output_type": "stream",
     "text": [
      "['apple', 'watermelon', 'Pirate', 'SaiTama']\n"
     ]
    }
   ],
   "source": [
    "dist3 = ['apple', 'watermelon', 'Peter', 'Pirate']\n",
    "dist3.append('SaiTama')\n",
    "dist3.pop(2)\n",
    "print(dist3)"
   ]
  },
  {
   "cell_type": "code",
   "execution_count": 69,
   "id": "48976ea0",
   "metadata": {},
   "outputs": [
    {
     "data": {
      "text/plain": [
       "{'age': 35}"
      ]
     },
     "execution_count": 69,
     "metadata": {},
     "output_type": "execute_result"
    }
   ],
   "source": [
    "#dist3[3] = [1,2,3,4]\n",
    "dist4 = {'name' : 'Kei', 'age' : 35}\n",
    "dist4\n",
    "del dist4['name']\n",
    "dist4"
   ]
  },
  {
   "cell_type": "code",
   "execution_count": 70,
   "id": "11b89266",
   "metadata": {},
   "outputs": [
    {
     "name": "stdout",
     "output_type": "stream",
     "text": [
      "This num is Real\n"
     ]
    }
   ],
   "source": [
    "n = 10\n",
    "if n >= 10:\n",
    "    print('This num is Real')\n",
    "else:\n",
    "    print('This is out of nnum')"
   ]
  },
  {
   "cell_type": "code",
   "execution_count": null,
   "id": "2ce80999",
   "metadata": {},
   "outputs": [],
   "source": []
  }
 ],
 "metadata": {
  "kernelspec": {
   "display_name": "Python 3 (ipykernel)",
   "language": "python",
   "name": "python3"
  },
  "language_info": {
   "codemirror_mode": {
    "name": "ipython",
    "version": 3
   },
   "file_extension": ".py",
   "mimetype": "text/x-python",
   "name": "python",
   "nbconvert_exporter": "python",
   "pygments_lexer": "ipython3",
   "version": "3.9.13"
  }
 },
 "nbformat": 4,
 "nbformat_minor": 5
}
